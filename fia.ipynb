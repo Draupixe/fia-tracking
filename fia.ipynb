{
 "cells": [
  {
   "cell_type": "markdown",
   "metadata": {},
   "source": [
    "Export txt into csv"
   ]
  },
  {
   "cell_type": "code",
   "execution_count": 2,
   "metadata": {},
   "outputs": [
    {
     "name": "stdout",
     "output_type": "stream",
     "text": [
      "Data has been successfully written to output.csv\n"
     ]
    }
   ],
   "source": [
    "import csv\n",
    "\n",
    "# Read data from the text file\n",
    "with open('dynamic_B1_A2_0.txt', 'r') as file:\n",
    "    lines = file.readlines()\n",
    "\n",
    "# Process data\n",
    "data = []\n",
    "for line in lines:\n",
    "    if line.strip() and not line.startswith('*'):\n",
    "        parts = line.strip().split()\n",
    "        tracker = parts[0].strip(':')\n",
    "        id = parts[1]\n",
    "        x = parts[2]\n",
    "        y = parts[3]\n",
    "        z = parts[4]\n",
    "        timestamp = parts[5]\n",
    "        data.append([tracker, id, x, y, z, timestamp])\n",
    "\n",
    "# Write data to a CSV file\n",
    "with open('output.csv', 'w', newline='') as csvfile:\n",
    "    csvwriter = csv.writer(csvfile)\n",
    "    csvwriter.writerow(['Tracker', 'ID', 'X', 'Y', 'Z', 'Timestamp'])\n",
    "    csvwriter.writerows(data)\n",
    "\n",
    "print(\"Data exported in CSV\")\n"
   ]
  },
  {
   "cell_type": "markdown",
   "metadata": {},
   "source": [
    "Librairies"
   ]
  },
  {
   "cell_type": "code",
   "execution_count": 2,
   "metadata": {},
   "outputs": [],
   "source": [
    "import pandas as pd\n",
    "import matplotlib.pyplot as plt\n",
    "import matplotlib.animation as animation\n",
    "import numpy as np\n",
    "plt.switch_backend('Qt5Agg')"
   ]
  },
  {
   "cell_type": "code",
   "execution_count": 3,
   "metadata": {},
   "outputs": [],
   "source": [
    "# Load data\n",
    "data = pd.read_csv(\"output.csv\")\n",
    "data_n = data.drop(columns=[\"Tracker\", \"ID\"])"
   ]
  },
  {
   "cell_type": "code",
   "execution_count": 1,
   "metadata": {},
   "outputs": [
    {
     "ename": "NameError",
     "evalue": "name 'plt' is not defined",
     "output_type": "error",
     "traceback": [
      "\u001b[1;31m---------------------------------------------------------------------------\u001b[0m",
      "\u001b[1;31mNameError\u001b[0m                                 Traceback (most recent call last)",
      "Cell \u001b[1;32mIn[1], line 2\u001b[0m\n\u001b[0;32m      1\u001b[0m \u001b[38;5;66;03m# Initialize the plot\u001b[39;00m\n\u001b[1;32m----> 2\u001b[0m fig, ax \u001b[38;5;241m=\u001b[39m \u001b[43mplt\u001b[49m\u001b[38;5;241m.\u001b[39msubplots()\n\u001b[0;32m      3\u001b[0m line, \u001b[38;5;241m=\u001b[39m ax\u001b[38;5;241m.\u001b[39mplot([], [], \u001b[38;5;124m'\u001b[39m\u001b[38;5;124mro-\u001b[39m\u001b[38;5;124m'\u001b[39m, label\u001b[38;5;241m=\u001b[39m\u001b[38;5;124m'\u001b[39m\u001b[38;5;124mX vs Y\u001b[39m\u001b[38;5;124m'\u001b[39m)\n\u001b[0;32m      5\u001b[0m \u001b[38;5;66;03m# Set plot limits\u001b[39;00m\n",
      "\u001b[1;31mNameError\u001b[0m: name 'plt' is not defined"
     ]
    }
   ],
   "source": [
    "# Initialize the plot\n",
    "fig, ax = plt.subplots()\n",
    "line, = ax.plot([], [], 'ro-', label='X vs Y')\n",
    "\n",
    "# Set plot limits\n",
    "ax.set_xlim(min(data_n['X']) - 1, max(data_n['X']) + 1)\n",
    "ax.set_ylim(min(data_n['Y']) - 1, max(data_n['Y']) + 1)\n",
    "\n",
    "# Initialization function\n",
    "def init():\n",
    "    line.set_data([], [])\n",
    "    return line,\n",
    "\n",
    "# Animation function\n",
    "def animate(i):\n",
    "    x = data_n['X'][:i]\n",
    "    y = data_n['Y'][:i]\n",
    "    line.set_data(x, y)\n",
    "    return line,\n",
    "\n",
    "# Create the animation\n",
    "ani = animation.FuncAnimation(fig, animate, init_func=init, frames=data_n.shape[0], interval=200, blit=True)\n",
    "\n",
    "# Show the plot with animation\n",
    "plt.legend()\n",
    "plt.xlabel('X')\n",
    "plt.ylabel('Y')\n",
    "plt.title('Real-Time X vs Y with Exponential Moving Average')\n",
    "plt.show()"
   ]
  },
  {
   "cell_type": "code",
   "execution_count": null,
   "metadata": {},
   "outputs": [],
   "source": [
    "# Load data\n",
    "data = pd.read_csv(\"sample_submission.csv/output.csv\")\n",
    "data_n = data.drop(columns=[\"Tracker\", \"ID\"])\n",
    "\n",
    "# Define the EMA function\n",
    "def exponential_moving_average(data, alpha=0.2):\n",
    "    ema = [data[0]]  # The first value is the same as the data\n",
    "    for value in data[1:]:\n",
    "        ema.append(alpha * value + (1 - alpha) * ema[-1])\n",
    "    return ema\n",
    "\n",
    "# Calculate EMA for the 'X' and 'Y' columns\n",
    "data_n['EMA_X'] = exponential_moving_average(data_n['X'])\n",
    "data_n['EMA_Y'] = exponential_moving_average(data_n['Y'])\n",
    "print(data_n.head())\n",
    "\n",
    "# Plot real-time data and EMA\n",
    "plt.figure(figsize=(14, 7))\n",
    "plt.plot(data_n[\"Timestamp\"], data_n[\"X\"], 'r-', label='X')\n",
    "plt.plot(data_n[\"Timestamp\"], data_n[\"EMA_X\"], 'b-', label='EMA_X')\n",
    "plt.plot(data_n[\"Timestamp\"], data_n[\"Y\"], 'g-', label='Y')\n",
    "plt.plot(data_n[\"Timestamp\"], data_n[\"EMA_Y\"], 'm-', label='EMA_Y')\n",
    "\n",
    "plt.xlabel('Timestamp')\n",
    "plt.ylabel('Values')\n",
    "plt.legend()\n",
    "plt.title('Real-Time Data and Exponential Moving Average')\n",
    "plt.xticks(rotation=45)\n",
    "plt.tight_layout()\n",
    "\n",
    "plt.show()"
   ]
  },
  {
   "cell_type": "code",
   "execution_count": null,
   "metadata": {},
   "outputs": [],
   "source": []
  }
 ],
 "metadata": {
  "kernelspec": {
   "display_name": "Python 3",
   "language": "python",
   "name": "python3"
  },
  "language_info": {
   "codemirror_mode": {
    "name": "ipython",
    "version": 3
   },
   "file_extension": ".py",
   "mimetype": "text/x-python",
   "name": "python",
   "nbconvert_exporter": "python",
   "pygments_lexer": "ipython3",
   "version": "3.12.0"
  }
 },
 "nbformat": 4,
 "nbformat_minor": 2
}
