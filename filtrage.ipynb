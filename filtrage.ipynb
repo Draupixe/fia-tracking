{
 "cells": [
  {
   "cell_type": "markdown",
   "metadata": {},
   "source": [
    "**Library import**"
   ]
  },
  {
   "cell_type": "code",
   "execution_count": 15,
   "metadata": {},
   "outputs": [],
   "source": [
    "%matplotlib qt \n",
    "# Active l'affichage dynamique sur le notebook\n",
    "import csv\n",
    "import pandas as pd\n",
    "import matplotlib.pyplot as plt\n",
    "import numpy as np\n",
    "import keyboard # Pas sûr que vous ayez la librairie d'installer sur vos PC\n",
    "import time\n",
    "import math as m\n",
    "import random"
   ]
  },
  {
   "cell_type": "markdown",
   "metadata": {},
   "source": [
    "**Creation of dataframe from a text file converted into a CSV**"
   ]
  },
  {
   "cell_type": "code",
   "execution_count": 8,
   "metadata": {},
   "outputs": [],
   "source": [
    "# # Read data from the text file\n",
    "# with open('dynamic_B1_A2_0.txt', 'r') as file:\n",
    "#     lines = file.readlines()\n",
    "\n",
    "# # Process data\n",
    "# data = []\n",
    "# for line in lines:\n",
    "#     if line.strip() and not line.startswith('*'):\n",
    "#         parts = line.strip().split()\n",
    "#         tracker = parts[0].strip(':')\n",
    "#         id = parts[1]\n",
    "#         x = parts[2]\n",
    "#         y = parts[3]\n",
    "#         z = parts[4]\n",
    "#         timestamp = parts[5]\n",
    "#         data.append([tracker, id, x, y, z, timestamp])\n",
    "\n",
    "# # Write data to a CSV file\n",
    "# with open('output.csv', 'w', newline='') as csvfile:\n",
    "#     csvwriter = csv.writer(csvfile)\n",
    "#     csvwriter.writerow(['Tracker', 'ID', 'X', 'Y', 'Z', 'Timestamp'])\n",
    "#     csvwriter.writerows(data)\n",
    "\n",
    "# print(\"Data exported in CSV\")\n",
    "\n",
    "# data = pd.read_csv(\"output.csv\")\n",
    "# data_n = data.drop(columns=[\"Tracker\", \"ID\"])"
   ]
  },
  {
   "cell_type": "markdown",
   "metadata": {},
   "source": [
    "**Create a dataframe from CSV file**"
   ]
  },
  {
   "cell_type": "code",
   "execution_count": 51,
   "metadata": {},
   "outputs": [
    {
     "name": "stdout",
     "output_type": "stream",
     "text": [
      "         X      Y    Z                    Timestamp\n",
      "0    5.748  3.479  1.5  2024-05-17T19:45:20.885357Z\n",
      "1    5.730  3.491  1.5  2024-05-17T19:45:21.173795Z\n",
      "2    5.721  3.491  1.5  2024-05-17T19:45:21.422916Z\n",
      "3    5.724  3.485  1.5  2024-05-17T19:45:21.664455Z\n",
      "4    5.702  3.471  1.5  2024-05-17T19:45:21.913628Z\n",
      "5    5.778  3.423  1.5  2024-05-17T19:45:22.152279Z\n",
      "6    5.766  3.344  1.5  2024-05-17T19:45:22.440044Z\n",
      "7    5.898  3.245  1.5  2024-05-17T19:45:22.688972Z\n",
      "8    5.880  3.100  1.5  2024-05-17T19:45:22.932486Z\n",
      "9    5.807  2.980  1.5  2024-05-17T19:45:23.180029Z\n",
      "10   5.759  2.739  1.5  2024-05-17T19:45:23.425629Z\n",
      "11   5.902  2.501  1.5  2024-05-17T19:45:23.721784Z\n",
      "12   5.937  2.273  1.5  2024-05-17T19:45:23.972470Z\n",
      "13   5.890  2.038  1.5  2024-05-17T19:45:24.216709Z\n",
      "14   5.825  1.763  1.5  2024-05-17T19:45:24.460611Z\n",
      "15   5.741  1.575  1.5  2024-05-17T19:45:24.710536Z\n",
      "16   5.738  1.323  1.5  2024-05-17T19:45:24.999238Z\n",
      "17   5.692  0.941  1.5  2024-05-17T19:45:25.240843Z\n",
      "18   5.630  0.915  1.5  2024-05-17T19:45:25.483087Z\n",
      "19   5.640  0.769  1.5  2024-05-17T19:45:25.739535Z\n",
      "20   5.685  0.636  1.5  2024-05-17T19:45:26.012338Z\n",
      "21   5.676  0.577  1.5  2024-05-17T19:45:26.303597Z\n",
      "22   5.619  0.236  1.5  2024-05-17T19:45:26.548502Z\n",
      "23   5.552  0.009  1.5  2024-05-17T19:45:26.792049Z\n",
      "24   5.445 -0.074  1.5  2024-05-17T19:45:27.053574Z\n",
      "25   5.300 -0.214  1.5  2024-05-17T19:45:27.305327Z\n",
      "26   5.196 -0.417  1.5  2024-05-17T19:45:27.596447Z\n",
      "27   4.909 -0.343  1.5  2024-05-17T19:45:27.848413Z\n",
      "28   4.620 -0.315  1.5  2024-05-17T19:45:28.099983Z\n",
      "29   4.344 -0.402  1.5  2024-05-17T19:45:28.352453Z\n",
      "..     ...    ...  ...                          ...\n",
      "165  0.358  0.568  1.5  2024-05-17T19:46:22.186573Z\n",
      "166  0.443  0.745  1.5  2024-05-17T19:46:22.433194Z\n",
      "167  0.489  0.917  1.5  2024-05-17T19:46:22.725513Z\n",
      "168  0.541  1.024  1.5  2024-05-17T19:46:22.975149Z\n",
      "169  0.319  1.003  1.5  2024-05-17T19:46:23.217092Z\n",
      "170  0.425  1.094  1.5  2024-05-17T19:46:23.467281Z\n",
      "171  0.377  1.205  1.5  2024-05-17T19:46:23.709138Z\n",
      "172  0.280  1.303  1.5  2024-05-17T19:46:23.988865Z\n",
      "173  0.462  1.223  1.5  2024-05-17T19:46:24.237833Z\n",
      "174  0.472  1.496  1.5  2024-05-17T19:46:24.500410Z\n",
      "175  0.468  1.676  1.5  2024-05-17T19:46:24.760798Z\n",
      "176  0.427  1.764  1.5  2024-05-17T19:46:25.028563Z\n",
      "177  0.381  1.900  1.5  2024-05-17T19:46:25.310875Z\n",
      "178  0.271  2.111  1.5  2024-05-17T19:46:25.565653Z\n",
      "179  0.282  2.281  1.5  2024-05-17T19:46:25.827725Z\n",
      "180  0.373  2.444  1.5  2024-05-17T19:46:26.072368Z\n",
      "181  0.429  2.570  1.5  2024-05-17T19:46:26.339971Z\n",
      "182  0.471  2.683  1.5  2024-05-17T19:46:26.625078Z\n",
      "183  0.408  2.804  1.5  2024-05-17T19:46:26.872697Z\n",
      "184  0.448  2.922  1.5  2024-05-17T19:46:27.120771Z\n",
      "185  0.438  3.046  1.5  2024-05-17T19:46:27.369131Z\n",
      "186  0.141  2.990  1.5  2024-05-17T19:46:27.613591Z\n",
      "187 -0.113  2.926  1.5  2024-05-17T19:46:27.900059Z\n",
      "188  0.106  3.087  1.5  2024-05-17T19:46:28.148913Z\n",
      "189  0.274  3.187  1.5  2024-05-17T19:46:28.396777Z\n",
      "190 -0.262  2.943  1.5  2024-05-17T19:46:28.643651Z\n",
      "191 -0.530  2.826  1.5  2024-05-17T19:46:29.179127Z\n",
      "192 -0.676  2.758  1.5  2024-05-17T19:46:29.419487Z\n",
      "193 -0.528  2.842  1.5  2024-05-17T19:46:29.666826Z\n",
      "194 -0.464  2.869  1.5  2024-05-17T19:46:29.939019Z\n",
      "\n",
      "[195 rows x 4 columns]\n"
     ]
    }
   ],
   "source": [
    "data = pd.read_csv(\"dynamic_B2_B1_O1_A1_A2_0_1.csv\")\n",
    "data_n = data.drop(columns=[\"Tracker\", \"ID\"])\n",
    "print(data_n)"
   ]
  },
  {
   "cell_type": "markdown",
   "metadata": {},
   "source": [
    "**Add disturbance in data**"
   ]
  },
  {
   "cell_type": "code",
   "execution_count": 52,
   "metadata": {},
   "outputs": [],
   "source": [
    "probability = 0.1\n",
    "probability_2 = 0.2\n",
    "masque = np.random.rand(len(data_n)) < probability\n",
    "masque_2 = np.random.rand(len(data_n)) < probability_2\n",
    "\n",
    "# Multiplie les valeurs de la colonne 'X' et 'Y' par 10 là où le masque est True\n",
    "\n",
    "data_n.loc[masque, 'X'] *= 1.5\n",
    "data_n.loc[masque, 'Y'] *= -1.5\n",
    "data_n.loc[masque_2, 'X'] *= 4\n",
    "data_n.loc[masque_2, 'Y'] *= 4"
   ]
  },
  {
   "cell_type": "code",
   "execution_count": 102,
   "metadata": {},
   "outputs": [
    {
     "name": "stdout",
     "output_type": "stream",
     "text": [
      "          X      Y    Z                    Timestamp\n",
      "0     5.663  3.082  1.5  2024-05-17T19:57:17.799009Z\n",
      "1     5.643  3.084  1.5  2024-05-17T19:57:18.045539Z\n",
      "2     5.627  3.083  1.5  2024-05-17T19:57:18.284966Z\n",
      "3     5.613  3.091  1.5  2024-05-17T19:57:18.522330Z\n",
      "4    11.214  6.196  1.5  2024-05-17T19:57:18.765252Z\n",
      "5     5.521  3.124  1.5  2024-05-17T19:57:19.044176Z\n",
      "6     5.371  3.229  1.5  2024-05-17T19:57:19.318205Z\n",
      "7    10.458  6.772  1.5  2024-05-17T19:57:19.583887Z\n",
      "8     5.067  3.508  1.5  2024-05-17T19:57:19.830947Z\n",
      "9     4.825  3.653  1.5  2024-05-17T19:57:20.073749Z\n",
      "10    9.100  7.616  1.5  2024-05-17T19:57:20.360496Z\n",
      "11    4.348  3.951  1.5  2024-05-17T19:57:20.614786Z\n",
      "12    4.187  4.068  1.5  2024-05-17T19:57:20.857525Z\n",
      "13    4.041  4.175  1.5  2024-05-17T19:57:21.104875Z\n",
      "14    3.890  4.247  1.5  2024-05-17T19:57:21.371088Z\n",
      "15    3.793  4.277  1.5  2024-05-17T19:57:21.665664Z\n",
      "16    3.726  4.376  1.5  2024-05-17T19:57:21.911206Z\n",
      "17    7.342  8.876  1.5  2024-05-17T19:57:22.154868Z\n",
      "18    3.567  4.471  1.5  2024-05-17T19:57:22.399190Z\n",
      "19    3.377  4.422  1.5  2024-05-17T19:57:22.651255Z\n",
      "20    3.150  4.331  1.5  2024-05-17T19:57:22.931252Z\n",
      "21    2.933  4.245  1.5  2024-05-17T19:57:23.178464Z\n",
      "22    2.732  4.118  1.5  2024-05-17T19:57:23.423186Z\n",
      "23    2.525  4.013  1.5  2024-05-17T19:57:23.667168Z\n",
      "24    2.224  3.816  1.5  2024-05-17T19:57:23.922662Z\n",
      "25    1.961  3.684  1.5  2024-05-17T19:57:24.206056Z\n",
      "26    3.406  7.198  1.5  2024-05-17T19:57:24.459508Z\n",
      "27    1.512  3.506  1.5  2024-05-17T19:57:24.729726Z\n",
      "28    1.353  3.438  1.5  2024-05-17T19:57:24.975715Z\n",
      "29    2.528  6.848  1.5  2024-05-17T19:57:25.220084Z\n",
      "..      ...    ...  ...                          ...\n",
      "71    8.984  0.190  1.5  2024-05-17T19:57:35.973575Z\n",
      "72    9.384  0.246  1.5  2024-05-17T19:57:36.220201Z\n",
      "73    4.849  0.136  1.5  2024-05-17T19:57:36.464154Z\n",
      "74    4.974  0.110  1.5  2024-05-17T19:57:36.706790Z\n",
      "75    5.046  0.055  1.5  2024-05-17T19:57:36.992972Z\n",
      "76    9.842 -0.126  1.5  2024-05-17T19:57:37.240614Z\n",
      "77    5.065 -0.074  1.5  2024-05-17T19:57:37.483281Z\n",
      "78    5.131 -0.039  1.5  2024-05-17T19:57:37.728565Z\n",
      "79    5.172  0.038  1.5  2024-05-17T19:57:37.976969Z\n",
      "80    5.209  0.188  1.5  2024-05-17T19:57:38.259356Z\n",
      "81    5.228  0.380  1.5  2024-05-17T19:57:38.502928Z\n",
      "82    5.239  0.584  1.5  2024-05-17T19:57:38.753506Z\n",
      "83    5.276  0.846  1.5  2024-05-17T19:57:39.005257Z\n",
      "84    5.301  1.062  1.5  2024-05-17T19:57:39.253885Z\n",
      "85    5.336  1.250  1.5  2024-05-17T19:57:39.534623Z\n",
      "86    5.337  1.451  1.5  2024-05-17T19:57:39.780077Z\n",
      "87    5.333  1.723  1.5  2024-05-17T19:57:40.023770Z\n",
      "88    5.353  1.970  1.5  2024-05-17T19:57:40.269473Z\n",
      "89    5.383  2.171  1.5  2024-05-17T19:57:40.522059Z\n",
      "90    5.395  2.357  1.5  2024-05-17T19:57:40.810790Z\n",
      "91    5.404  2.605  1.5  2024-05-17T19:57:41.055771Z\n",
      "92    5.440  2.824  1.5  2024-05-17T19:57:41.296578Z\n",
      "93    5.446  2.946  1.5  2024-05-17T19:57:41.541049Z\n",
      "94    5.436  3.044  1.5  2024-05-17T19:57:41.787985Z\n",
      "95    5.414  3.117  1.5  2024-05-17T19:57:42.074765Z\n",
      "96    5.406  3.157  1.5  2024-05-17T19:57:42.326766Z\n",
      "97    5.414  3.192  1.5  2024-05-17T19:57:42.571852Z\n",
      "98    5.409  3.192  1.5  2024-05-17T19:57:42.821564Z\n",
      "99    5.401  3.210  1.5  2024-05-17T19:57:43.067978Z\n",
      "100   5.389  3.217  1.5  2024-05-17T19:57:43.356151Z\n",
      "\n",
      "[101 rows x 4 columns]\n"
     ]
    }
   ],
   "source": [
    "print(data_n)"
   ]
  },
  {
   "cell_type": "markdown",
   "metadata": {},
   "source": [
    "**Exclusive radius filtering**"
   ]
  },
  {
   "cell_type": "code",
   "execution_count": 53,
   "metadata": {},
   "outputs": [
    {
     "name": "stderr",
     "output_type": "stream",
     "text": [
      "C:\\ProgramData\\Anaconda3\\lib\\site-packages\\ipykernel_launcher.py:5: SettingWithCopyWarning: \n",
      "A value is trying to be set on a copy of a slice from a DataFrame\n",
      "\n",
      "See the caveats in the documentation: http://pandas.pydata.org/pandas-docs/stable/indexing.html#indexing-view-versus-copy\n",
      "  \"\"\"\n"
     ]
    }
   ],
   "source": [
    "def exclusive_radius(data_x,data_y,R=1):  # R en mètres\n",
    "    for i in range(1,len(data_x)):\n",
    "        if(i>3):\n",
    "            if m.sqrt((data_x[i]-data_x[i-1])**2+(data_y[i]-data_y[i-1])**2) > R:\n",
    "                data_x[i],data_y[i] = data_x[i-1],data_y[i-1]\n",
    "                R+=0.1\n",
    "            else:\n",
    "                R=1\n",
    "    return\n",
    "\n",
    "data_n_filtered = data_n.copy() \n",
    "exclusive_radius(data_n_filtered['X'],data_n_filtered['Y'])"
   ]
  },
  {
   "cell_type": "markdown",
   "metadata": {},
   "source": [
    "**EWMA filtering**"
   ]
  },
  {
   "cell_type": "code",
   "execution_count": 54,
   "metadata": {},
   "outputs": [],
   "source": [
    "# Partie filtrage\n",
    "# Define the EMA function, if the velocity is high alpha should be close to 1\n",
    "def alpha_value(x1,x2,y1,y2):\n",
    "    velocity = m.sqrt((x2-x1)**2+(y2-y1)**2)/0.2\n",
    "    alpha = velocity/4.2\n",
    "    if alpha > 1:\n",
    "        return 1\n",
    "    elif alpha >= 0.05:\n",
    "        return alpha\n",
    "    else:    \n",
    "        return 0.05\n",
    "    \n",
    "    \n",
    "    \n",
    "def exponential_moving_average(data_1,data_2):\n",
    "    ema = [data_1[0]]\n",
    "    alpha = alpha_value(data_1[0],data_1[1],data_2[0],data_2[1])\n",
    "    for i in range(1,len(data_1)):\n",
    "        alpha = alpha_value(data_1[i-1],data_1[i],data_2[i-1],data_2[i])\n",
    "        ema.append(alpha * data_1[i] + (1 - alpha) * ema[-1])\n",
    "    return ema\n",
    "\n",
    "# Calculate EMA for the 'X' and 'Y' columns\n",
    "data_n_filtered['EMA_X'] = exponential_moving_average(data_n_filtered['X'],data_n_filtered['Y'])\n",
    "data_n_filtered['EMA_Y'] = exponential_moving_average(data_n_filtered['Y'],data_n_filtered['X'])"
   ]
  },
  {
   "cell_type": "markdown",
   "metadata": {},
   "source": [
    "**Displaying raw data**"
   ]
  },
  {
   "cell_type": "code",
   "execution_count": 55,
   "metadata": {},
   "outputs": [],
   "source": [
    "# Animation function\n",
    "fig,ax= plt.subplots()\n",
    "line, = ax.plot([], [], 'ro-')\n",
    "\n",
    "# Set plot limits\n",
    "# ax.set_xlim(min(data_n['X']) - 1, max(data_n['X']) + 1)\n",
    "# ax.set_ylim(min(data_n['Y']) - 1, max(data_n['Y']) + 1)\n",
    "ax.set_xlim(-2,18)\n",
    "ax.set_ylim(-2,18)\n",
    "\n",
    "for i in range(data_n.shape[0]):\n",
    "    x = data_n['X'][i]\n",
    "    y = data_n['Y'][i]\n",
    "    plt.title('Raw Data Plot')\n",
    "    plt.scatter(x,y,color = 'red',s = 15)\n",
    "    plt.pause(0.0001)\n",
    "    if keyboard.is_pressed('q'):\n",
    "        plt.close()\n",
    "        break\n",
    "        \n",
    "plt.show()"
   ]
  },
  {
   "cell_type": "markdown",
   "metadata": {},
   "source": [
    "**Diplaying sorted data**"
   ]
  },
  {
   "cell_type": "code",
   "execution_count": 57,
   "metadata": {},
   "outputs": [],
   "source": [
    "# Animation function\n",
    "fig,ax= plt.subplots()\n",
    "line, = ax.plot([], [], 'ro-')\n",
    "\n",
    "# Set plot limits\n",
    "# ax.set_xlim(min(data_n['X']) - 1, max(data_n['X']) + 1)\n",
    "# ax.set_ylim(min(data_n['Y']) - 1, max(data_n['Y']) + 1)\n",
    "ax.set_xlim(-2,18)\n",
    "ax.set_ylim(-2,18)\n",
    "\n",
    "for i in range(data_n_filtered.shape[0]):\n",
    "    x_fil = data_n_filtered['X'][i]\n",
    "    y_fil = data_n_filtered['Y'][i]\n",
    "    x_ema = data_n_filtered['EMA_X'][i]\n",
    "    y_ema = data_n_filtered['EMA_Y'][i]\n",
    "    plt.title('filtered Data Plot')\n",
    "    plt.scatter(x_fil,y_fil, color = 'green', s = 10)\n",
    "    plt.scatter(x_ema,y_ema, color = 'blue',s = 10)\n",
    "    plt.pause(0.0001)\n",
    "    if keyboard.is_pressed('q'):\n",
    "        plt.close()\n",
    "        break\n",
    "        \n",
    "plt.show()"
   ]
  }
 ],
 "metadata": {
  "kernelspec": {
   "display_name": "Python 3",
   "language": "python",
   "name": "python3"
  },
  "language_info": {
   "codemirror_mode": {
    "name": "ipython",
    "version": 3
   },
   "file_extension": ".py",
   "mimetype": "text/x-python",
   "name": "python",
   "nbconvert_exporter": "python",
   "pygments_lexer": "ipython3",
   "version": "3.7.3"
  }
 },
 "nbformat": 4,
 "nbformat_minor": 2
}
